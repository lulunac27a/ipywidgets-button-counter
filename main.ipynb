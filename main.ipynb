{
 "cells": [
  {
   "cell_type": "code",
   "execution_count": null,
   "id": "288d0c6b",
   "metadata": {},
   "outputs": [],
   "source": [
    "import ipywidgets as widgets\n",
    "from IPython.display import display, clear_output\n",
    "\n",
    "count = 0\n",
    "def on_button_click(b):\n",
    "    global count\n",
    "    count += 1\n",
    "    with output:\n",
    "        clear_output()\n",
    "        print(f\"Button clicked {count} times\")\n",
    "\n",
    "button = widgets.Button(description=\"Click me\")\n",
    "button.on_click(on_button_click)\n",
    "output = widgets.Output()\n",
    "display(button, output)"
   ]
  }
 ],
 "metadata": {
  "language_info": {
   "name": "python"
  }
 },
 "nbformat": 4,
 "nbformat_minor": 5
}
