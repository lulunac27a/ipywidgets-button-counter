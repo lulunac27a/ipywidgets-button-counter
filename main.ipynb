{
 "cells": [
  {
   "cell_type": "code",
   "execution_count": null,
   "id": "288d0c6b",
   "metadata": {},
   "outputs": [],
   "source": [
    "import ipywidgets as widgets  # use ipywidgets library for Jupyter widgets\n",
    "from IPython.display import display\n",
    "\n",
    "count = 0  # initialize counter\n",
    "\n",
    "\n",
    "def on_button_click(b):  # when button is clicked\n",
    "    count += 1  # increase counter\n",
    "    with output:\n",
    "        output.clear_output()  # clear previous output\n",
    "        print(f\"Count: {count}\")  # update output with new count\n",
    "\n",
    "\n",
    "button = widgets.Button(description=\"Click me\")  # button to click\n",
    "button.on_click(on_button_click)  # increase counter\n",
    "output = widgets.Output()  # output area\n",
    "display(button, output)  # display widgets"
   ]
  }
 ],
 "metadata": {
  "language_info": {
   "name": "python"
  }
 },
 "nbformat": 4,
 "nbformat_minor": 5
}
